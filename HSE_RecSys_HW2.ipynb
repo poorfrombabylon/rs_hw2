{
 "cells": [
  {
   "cell_type": "markdown",
   "id": "93831896-683d-4946-8cae-7aff56608a65",
   "metadata": {},
   "source": [
    "## ДЗ №2. Матричные факторизации"
   ]
  },
  {
   "cell_type": "markdown",
   "id": "03b424ec-3791-4113-a672-25ef7cfa704d",
   "metadata": {},
   "source": [
    "#### В этой домашке вам предстоит реализовать некоторые базовые модели матричной факторизации\n",
    "\n",
    "#### Дата выдачи: 17.02.25\n",
    "\n",
    "#### Мягкий дедлайн: 02.03.25 23:59 MSK\n",
    "\n",
    "#### Жесткий дедлайн: 09.03.25 23:59 MSK"
   ]
  },
  {
   "cell_type": "markdown",
   "id": "d8f4b315-75b8-4225-953c-5510c584ff2b",
   "metadata": {},
   "source": [
    "В этом задании мы будем работать с классическим для рекоендательных систем датасетом [MovieLens 1M](https://grouplens.org/datasets/movielens/1m/). Датасет содержит рейтинги оценки для 4000 фильмов от 6000 пользователей. Более подробное описание можете найти на странице с датасетом и в README файле"
   ]
  },
  {
   "cell_type": "code",
   "id": "f5a85f84-4854-4249-963d-143d08bb7e36",
   "metadata": {
    "ExecuteTime": {
     "end_time": "2025-03-02T16:48:23.502960Z",
     "start_time": "2025-03-02T16:48:23.151393Z"
    }
   },
   "source": [
    "!wget https://files.grouplens.org/datasets/movielens/ml-1m.zip\n",
    "!unzip ml-1m.zip\n",
    "!cat ml-1m/README"
   ],
   "outputs": [
    {
     "name": "stdout",
     "output_type": "stream",
     "text": [
      "zsh:1: command not found: wget\r\n",
      "unzip:  cannot find or open ml-1m.zip, ml-1m.zip.zip or ml-1m.zip.ZIP.\r\n",
      "cat: ml-1m/README: No such file or directory\r\n"
     ]
    }
   ],
   "execution_count": 1
  },
  {
   "cell_type": "code",
   "id": "669137ca-f0f9-48d4-ae04-e42a4b0f8d14",
   "metadata": {
    "ExecuteTime": {
     "end_time": "2025-03-02T16:49:26.301716Z",
     "start_time": "2025-03-02T16:49:25.136864Z"
    }
   },
   "source": [
    "import pandas as pd\n",
    "import numpy as np\n",
    "from typing import Union"
   ],
   "outputs": [],
   "execution_count": 2
  },
  {
   "cell_type": "code",
   "id": "ed65b0ae-ce2d-437a-9739-e7981011089f",
   "metadata": {
    "ExecuteTime": {
     "end_time": "2025-03-02T16:49:30.144545Z",
     "start_time": "2025-03-02T16:49:28.790934Z"
    }
   },
   "source": [
    "df = pd.read_csv(\"ml-1m/ratings.dat\", sep='::', names=['user_id', 'item_id', 'rating', 'timestamp'], engine='python')\n",
    "df['datetime'] = pd.to_datetime(df['timestamp'], unit='s')\n",
    "df.drop('timestamp', axis=1, inplace=True)\n",
    "df.head()"
   ],
   "outputs": [
    {
     "data": {
      "text/plain": [
       "   user_id  item_id  rating            datetime\n",
       "0        1     1193       5 2000-12-31 22:12:40\n",
       "1        1      661       3 2000-12-31 22:35:09\n",
       "2        1      914       3 2000-12-31 22:32:48\n",
       "3        1     3408       4 2000-12-31 22:04:35\n",
       "4        1     2355       5 2001-01-06 23:38:11"
      ],
      "text/html": [
       "<div>\n",
       "<style scoped>\n",
       "    .dataframe tbody tr th:only-of-type {\n",
       "        vertical-align: middle;\n",
       "    }\n",
       "\n",
       "    .dataframe tbody tr th {\n",
       "        vertical-align: top;\n",
       "    }\n",
       "\n",
       "    .dataframe thead th {\n",
       "        text-align: right;\n",
       "    }\n",
       "</style>\n",
       "<table border=\"1\" class=\"dataframe\">\n",
       "  <thead>\n",
       "    <tr style=\"text-align: right;\">\n",
       "      <th></th>\n",
       "      <th>user_id</th>\n",
       "      <th>item_id</th>\n",
       "      <th>rating</th>\n",
       "      <th>datetime</th>\n",
       "    </tr>\n",
       "  </thead>\n",
       "  <tbody>\n",
       "    <tr>\n",
       "      <th>0</th>\n",
       "      <td>1</td>\n",
       "      <td>1193</td>\n",
       "      <td>5</td>\n",
       "      <td>2000-12-31 22:12:40</td>\n",
       "    </tr>\n",
       "    <tr>\n",
       "      <th>1</th>\n",
       "      <td>1</td>\n",
       "      <td>661</td>\n",
       "      <td>3</td>\n",
       "      <td>2000-12-31 22:35:09</td>\n",
       "    </tr>\n",
       "    <tr>\n",
       "      <th>2</th>\n",
       "      <td>1</td>\n",
       "      <td>914</td>\n",
       "      <td>3</td>\n",
       "      <td>2000-12-31 22:32:48</td>\n",
       "    </tr>\n",
       "    <tr>\n",
       "      <th>3</th>\n",
       "      <td>1</td>\n",
       "      <td>3408</td>\n",
       "      <td>4</td>\n",
       "      <td>2000-12-31 22:04:35</td>\n",
       "    </tr>\n",
       "    <tr>\n",
       "      <th>4</th>\n",
       "      <td>1</td>\n",
       "      <td>2355</td>\n",
       "      <td>5</td>\n",
       "      <td>2001-01-06 23:38:11</td>\n",
       "    </tr>\n",
       "  </tbody>\n",
       "</table>\n",
       "</div>"
      ]
     },
     "execution_count": 3,
     "metadata": {},
     "output_type": "execute_result"
    }
   ],
   "execution_count": 3
  },
  {
   "cell_type": "code",
   "id": "4988d476-542e-4a32-9c45-7a16bc2a5db5",
   "metadata": {
    "ExecuteTime": {
     "end_time": "2025-03-02T16:49:33.672697Z",
     "start_time": "2025-03-02T16:49:33.647802Z"
    }
   },
   "source": [
    "value_counts = df['item_id'].value_counts()\n",
    "filtered_values = value_counts[value_counts > 20].index\n",
    "df = df[df['item_id'].isin(filtered_values)].copy()"
   ],
   "outputs": [],
   "execution_count": 4
  },
  {
   "cell_type": "code",
   "id": "1e05bd3b-ab2f-4c02-9a97-a4153e9550bc",
   "metadata": {
    "ExecuteTime": {
     "end_time": "2025-03-02T16:49:33.909713Z",
     "start_time": "2025-03-02T16:49:33.891049Z"
    }
   },
   "source": [
    "train_end = '2000-12-01'\n",
    "df_train = df[df['datetime'] < train_end].copy()\n",
    "df_test = df[df['datetime'] >= train_end].copy()\n",
    "df_train.shape, df_test.shape"
   ],
   "outputs": [
    {
     "data": {
      "text/plain": [
       "((787420, 4), (207432, 4))"
      ]
     },
     "execution_count": 5,
     "metadata": {},
     "output_type": "execute_result"
    }
   ],
   "execution_count": 5
  },
  {
   "cell_type": "code",
   "id": "414b8ed7-20d6-4778-9d60-f9c8ccbfa7e3",
   "metadata": {
    "ExecuteTime": {
     "end_time": "2025-03-02T16:49:34.204169Z",
     "start_time": "2025-03-02T16:49:34.195108Z"
    }
   },
   "source": [
    "train_users = df_train['user_id'].unique()\n",
    "train_items = df_train['item_id'].unique()\n",
    "\n",
    "df_test = df_test[df_test['user_id'].isin(train_users)]\n",
    "df_test = df_test[df_test['item_id'].isin(train_items)]\n",
    "df_test.shape"
   ],
   "outputs": [
    {
     "data": {
      "text/plain": [
       "(106471, 4)"
      ]
     },
     "execution_count": 6,
     "metadata": {},
     "output_type": "execute_result"
    }
   ],
   "execution_count": 6
  },
  {
   "cell_type": "code",
   "id": "19f53d61-990c-4626-a470-7eefd06d2ec7",
   "metadata": {
    "ExecuteTime": {
     "end_time": "2025-03-02T16:49:36.328583Z",
     "start_time": "2025-03-02T16:49:34.804312Z"
    }
   },
   "source": [
    "from sklearn.preprocessing import LabelEncoder\n",
    "\n",
    "user_le = LabelEncoder()\n",
    "item_le = LabelEncoder()\n",
    "\n",
    "df_train['user_id'] = user_le.fit_transform(df_train['user_id'])\n",
    "df_train['item_id'] = item_le.fit_transform(df_train['item_id'])\n",
    "\n",
    "df_test['user_id'] = user_le.transform(df_test['user_id'])\n",
    "df_test['item_id'] = item_le.transform(df_test['item_id'])"
   ],
   "outputs": [],
   "execution_count": 7
  },
  {
   "cell_type": "code",
   "id": "f4ef3e2f-792d-4511-b4d0-74495d9cb30b",
   "metadata": {
    "ExecuteTime": {
     "end_time": "2025-03-02T16:49:36.337163Z",
     "start_time": "2025-03-02T16:49:36.331372Z"
    }
   },
   "source": [
    "df_train['user_id'].nunique(), df_train['user_id'].max()\n",
    "df_train['item_id'].nunique(), df_train['item_id'].max()"
   ],
   "outputs": [
    {
     "data": {
      "text/plain": [
       "(3010, 3009)"
      ]
     },
     "execution_count": 8,
     "metadata": {},
     "output_type": "execute_result"
    }
   ],
   "execution_count": 8
  },
  {
   "cell_type": "markdown",
   "id": "3d356df8-9157-4752-b30d-dc80aba5e53c",
   "metadata": {},
   "source": [
    "##### Задание 1. Напишем функцию, которая превратит датафрейм в матрицу интеракций. В функции df_to_matrix реализуйте функцию, которая принимает датафрейм и возвращает np.array матрицу интеракций. В функции df_to_coo реализуйте функцию, которая принимает датафрейм и возвращает разреженную матрицу интеракций в coo_array формате"
   ]
  },
  {
   "metadata": {
    "ExecuteTime": {
     "end_time": "2025-03-02T16:49:59.742170Z",
     "start_time": "2025-03-02T16:49:59.733490Z"
    }
   },
   "cell_type": "code",
   "source": "matrix_shape = (df_train['user_id'].nunique(), df_train['item_id'].nunique())",
   "id": "dfa92270e903b043",
   "outputs": [],
   "execution_count": 9
  },
  {
   "cell_type": "code",
   "id": "d38a7bb7-7f2d-4957-8dac-6397af9b1645",
   "metadata": {
    "ExecuteTime": {
     "end_time": "2025-03-02T16:50:06.153789Z",
     "start_time": "2025-03-02T16:50:06.151303Z"
    }
   },
   "source": [
    "def df_to_matrix(df: pd.DataFrame) -> np.ndarray:\n",
    "    result = np.zeros((matrix_shape))\n",
    "    result[df.user_id.values, df.item_id.values] = df.rating.values\n",
    "\n",
    "    return result  #shape ~ [n_users, n_items]"
   ],
   "outputs": [],
   "execution_count": 11
  },
  {
   "cell_type": "code",
   "id": "55362cbb-5e2d-455b-afd1-8507f1dd51ba",
   "metadata": {
    "ExecuteTime": {
     "end_time": "2025-03-02T16:50:06.754410Z",
     "start_time": "2025-03-02T16:50:06.740123Z"
    }
   },
   "source": [
    "interactions = df_to_matrix(df_train)"
   ],
   "outputs": [],
   "execution_count": 12
  },
  {
   "cell_type": "code",
   "id": "794b646d-a560-42dd-a466-87cad2589271",
   "metadata": {
    "ExecuteTime": {
     "end_time": "2025-03-02T17:30:20.437655Z",
     "start_time": "2025-03-02T17:30:20.435122Z"
    }
   },
   "source": [
    "from scipy.sparse import coo_array, csr_matrix\n",
    "\n",
    "\n",
    "def df_to_coo(df: pd.DataFrame) -> coo_array:\n",
    "    result = coo_array(\n",
    "        (df.rating.values.astype(float), (df.user_id.values, df.item_id.values)),\n",
    "        shape=(matrix_shape)\n",
    "    )\n",
    "\n",
    "    return result  # coo_array"
   ],
   "outputs": [],
   "execution_count": 35
  },
  {
   "cell_type": "code",
   "id": "30f9c218-0419-41b2-a112-c2214fad1d99",
   "metadata": {
    "ExecuteTime": {
     "end_time": "2025-03-02T16:50:36.605947Z",
     "start_time": "2025-03-02T16:50:36.602621Z"
    }
   },
   "source": [
    "coo_interactions = df_to_coo(df_train)"
   ],
   "outputs": [],
   "execution_count": 17
  },
  {
   "cell_type": "code",
   "id": "96b57a7a-0551-4f75-8047-fb9904ac93df",
   "metadata": {
    "ExecuteTime": {
     "end_time": "2025-03-02T16:50:37.148857Z",
     "start_time": "2025-03-02T16:50:37.051612Z"
    }
   },
   "source": [
    "assert (interactions != 0).sum() == df_train.shape[0]\n",
    "assert interactions[0, 2994] == 3\n",
    "assert interactions[2369, 1203] == 5\n",
    "assert interactions[1557, 459] == 3\n",
    "assert np.allclose(coo_interactions.toarray(), interactions)"
   ],
   "outputs": [],
   "execution_count": 18
  },
  {
   "cell_type": "markdown",
   "id": "93b3862a-e62a-4ebe-a70c-29102e9f99fd",
   "metadata": {},
   "source": [
    "##### Задание 2.1. Рассмотрим [SVD](https://en.wikipedia.org/wiki/Singular_value_decomposition). Возьмите готовую реализуцию алгоритма из numpy.linalg или из scipy.linalg и примените алгоритм к матрицам интеракций, полученным в первом задании. Для работы со sparse матрицей обычная реализация svd не подойдет и нужно будет воспользоваться scipy.sparse.linalg.svds. Вам нужно разложить матрицу интеракций на 3 матрицы U, S, V, а затем перемножить их и восстановить изначальную матрицу. При полном разложении исходная матрица должна восстанавливаться максимально хорошо"
   ]
  },
  {
   "metadata": {
    "ExecuteTime": {
     "end_time": "2025-03-02T17:03:37.959860Z",
     "start_time": "2025-03-02T17:03:37.957904Z"
    }
   },
   "cell_type": "code",
   "outputs": [],
   "source": "import scipy.sparse as scps",
   "id": "8426bfc25fd4bb75",
   "execution_count": null
  },
  {
   "cell_type": "code",
   "id": "eead134a-9aac-4027-b0b8-592de614c3d0",
   "metadata": {
    "ExecuteTime": {
     "end_time": "2025-03-02T17:03:41.960124Z",
     "start_time": "2025-03-02T17:03:41.956751Z"
    }
   },
   "source": [
    "def make_svd(interractions: Union[np.ndarray, coo_array], n_singular_values: int = -1):\n",
    "    # функция должна работать и для полной матрицы и для sparse матрицы(вам поможет isinstance).\n",
    "    # если n_singular_values = -1, то берем все сингулярные числа для полной матрицы\n",
    "    # и все кроме одного сингулярного числа для coo-матрицы(иначе scipy.sparse.linalg.svds не будет работать)\n",
    "\n",
    "    if isinstance(interactions, np.ndarray):\n",
    "        U, S, V = np.linalg.svd(interactions)\n",
    "        U = U[:, :min(U.shape[0], V.shape[1])]\n",
    "        V = V[:min(U.shape[0], V.shape[1]), :]\n",
    "        S = np.diag(S)\n",
    "\n",
    "        if n_singular_values > 0:\n",
    "            U = U[:, :n_singular_values]\n",
    "            S = S[:n_singular_values, :n_singular_values]\n",
    "            V = V[:n_singular_values, :]\n",
    "\n",
    "    elif isinstance(interactions, coo_array):\n",
    "        if n_singular_values > 0:\n",
    "            U, S, V = scps.linalg.svds(interactions, k=n_singular_values, random_state=42)\n",
    "        else:\n",
    "            U, S, V = scps.linalg.svds(interactions, k=min(interactions.shape) - 1, random_state=42)\n",
    "\n",
    "        S = np.diag(S)\n",
    "\n",
    "    else:\n",
    "        raise ValueError(f\"Unknown data type {type(interactions)}\")\n",
    "\n",
    "    return U, S, V"
   ],
   "outputs": [],
   "execution_count": 21
  },
  {
   "cell_type": "code",
   "id": "5c5fecd4-4739-4f6b-9c9c-44bde8b66a34",
   "metadata": {
    "ExecuteTime": {
     "end_time": "2025-03-02T17:03:56.542806Z",
     "start_time": "2025-03-02T17:03:42.761633Z"
    }
   },
   "source": [
    "U, S, V = make_svd(interactions)\n",
    "assert np.allclose(U @ S @ V, interactions)"
   ],
   "outputs": [],
   "execution_count": 22
  },
  {
   "cell_type": "code",
   "id": "c5a5f59e-3832-4a7d-95b4-856531582bbd",
   "metadata": {
    "ExecuteTime": {
     "end_time": "2025-03-02T17:04:25.387312Z",
     "start_time": "2025-03-02T17:03:56.549855Z"
    }
   },
   "source": [
    "U1, S1, V1 = make_svd(interactions, 10)\n",
    "U, S, V = make_svd(coo_interactions, 10)\n",
    "assert np.allclose(U1 @ S1 @ V1, U @ S @ V)"
   ],
   "outputs": [],
   "execution_count": 23
  },
  {
   "cell_type": "markdown",
   "id": "9443daa6-e9f1-414a-8107-5a3016452929",
   "metadata": {},
   "source": [
    "##### Задание 2.2. Теперь попробуем сделать рекомендации с помощью SVD. Мы научились восстанавливать исходную матрицу с помощью разложения, теперь же мы хотим порекомендовать пользователю айтемы, которые будут для него максимально релевантны(в восстановленной матрице у них будет самый высокий скор). Для каждого пользователя нужно будет найти индексы айтемов, которые имеют максимальный скор. При этом стоит обратить внимание, что мы не хотим рекомендовать пользователю айтемы, с которыми он уже взаимодействовал"
   ]
  },
  {
   "metadata": {
    "ExecuteTime": {
     "end_time": "2025-03-02T17:08:42.649685Z",
     "start_time": "2025-03-02T17:08:42.647120Z"
    }
   },
   "cell_type": "code",
   "source": "import gc",
   "id": "c806ff9c4442856a",
   "outputs": [],
   "execution_count": 24
  },
  {
   "cell_type": "code",
   "id": "787da18f-48d0-4dfa-b18f-b7e97cc98a4f",
   "metadata": {
    "ExecuteTime": {
     "end_time": "2025-03-02T17:08:43.395622Z",
     "start_time": "2025-03-02T17:08:43.391879Z"
    }
   },
   "source": [
    "def make_svd_recommendations(interractions: Union[np.ndarray, coo_array], n_singular_values: int = -1,\n",
    "                             top_k: int = 100):\n",
    "    # Возвращает матрицу вида n_users, top_k, то есть для каждого пользователя возвращаем индексы \n",
    "    # top_k самых релевантный айтемов среди тех с которыми он еще не взаимодействовал\n",
    "\n",
    "    U, S, V = make_svd(interactions, n_singular_values)\n",
    "    matrix_pred = U @ S @ V\n",
    "\n",
    "    if isinstance(interactions, coo_array):\n",
    "        matrix_pred[scps.find(coo_interactions > 0)[:2]] = -np.inf\n",
    "    elif isinstance(interactions, np.ndarray):\n",
    "        matrix_pred[np.where(interactions > 0)] = -np.inf\n",
    "    else:\n",
    "        raise ValueError(f\"Unknown data type {type(interactions)}\")\n",
    "\n",
    "    recommendations = np.argsort(-matrix_pred, axis=1)[:, :top_k]\n",
    "\n",
    "    del matrix_pred; gc.collect()\n",
    "\n",
    "    return recommendations #shape ~ [n_users, top_k]"
   ],
   "outputs": [],
   "execution_count": 25
  },
  {
   "cell_type": "code",
   "id": "ec72f3dd-c8f2-4434-b84e-ef016c4773a1",
   "metadata": {
    "ExecuteTime": {
     "end_time": "2025-03-02T17:09:26.606715Z",
     "start_time": "2025-03-02T17:09:11.958881Z"
    }
   },
   "source": [
    "recs = make_svd_recommendations(interactions, -1, 100)\n",
    "assert recs.shape == (interactions.shape[0], 100)"
   ],
   "outputs": [],
   "execution_count": 26
  },
  {
   "cell_type": "markdown",
   "id": "f5d0b788-855a-4fd9-8cbb-38c0dd289ef5",
   "metadata": {},
   "source": [
    "##### Задание 2.3. Теперь давайте посмотрим как будет зависеть качетво рекомендаций, от количества сингулярных чисел, которые мы возьмем в SVD разложении. Переберите n_singular_values из списка [1, 10, 50, 200, 1000] и посмотрите как будет изменяться метрика NDCG на тестовом датасете для таких рекомендаций и как будет меняться время вычисления. Для каждого графики зависимости метрики NDCG от n_singular_values и времени работы алгоритма от n_singular_values(Время работы будет меняться только для sparse-матрицы, стоит запускать алгоритм именно для нее)"
   ]
  },
  {
   "metadata": {
    "ExecuteTime": {
     "end_time": "2025-03-02T17:12:36.718904Z",
     "start_time": "2025-03-02T17:12:36.477215Z"
    }
   },
   "cell_type": "code",
   "source": [
    "from sklearn.metrics import ndcg_score\n",
    "from tqdm.auto import tqdm\n",
    "\n",
    "def ndcg(df_test, recs, verbose=False):\n",
    "    y_true = np.empty(recs.shape)\n",
    "    y_pred = np.vstack([-1 * np.arange(recs.shape[1]) for _ in range(recs.shape[0])])\n",
    "\n",
    "    for user_id in tqdm(range(recs.shape[0]), disable= not verbose):\n",
    "        relevance_true = np.isin(\n",
    "            recs[user_id],\n",
    "            df_test.loc[df_test.user_id == user_id][\"item_id\"].values\n",
    "        ).astype(int)\n",
    "        y_true[user_id] = relevance_true\n",
    "\n",
    "    score = ndcg_score(y_true, y_pred)\n",
    "    del y_true, y_pred\n",
    "\n",
    "    return score"
   ],
   "id": "8724b720501e970d",
   "outputs": [],
   "execution_count": 27
  },
  {
   "metadata": {
    "ExecuteTime": {
     "end_time": "2025-03-02T17:13:19.685712Z",
     "start_time": "2025-03-02T17:13:19.300304Z"
    }
   },
   "cell_type": "code",
   "source": [
    "import matplotlib.pyplot as plt\n",
    "import time"
   ],
   "id": "92fde6f9ab0f4ec2",
   "outputs": [],
   "execution_count": 28
  },
  {
   "cell_type": "code",
   "id": "06f931fd-0eb0-4965-9e02-e005ed545c71",
   "metadata": {
    "ExecuteTime": {
     "end_time": "2025-03-02T17:17:04.380279Z",
     "start_time": "2025-03-02T17:17:04.376462Z"
    }
   },
   "source": [
    "def plot_graphs(interractions: Union[np.ndarray, coo_array], top_k: int = 100):\n",
    "    #your code here\n",
    "    scores = []\n",
    "    times = []\n",
    "    n_singular_values = [1, 5, 10, 20, 50, 60, 100, 200, 500, 700, 1000]\n",
    "    for singular_value in tqdm(n_singular_values):\n",
    "        start = time.time()\n",
    "        recs = make_svd_recommendations(interactions, singular_value, top_k)\n",
    "        end = time.time()\n",
    "\n",
    "        times.append(end - start)\n",
    "        scores.append(ndcg(df_test, recs))\n",
    "\n",
    "    fig, ax = plt.subplots(figsize=(10, 10), nrows=2)\n",
    "\n",
    "    ax[0].plot(n_singular_values, scores)\n",
    "    ax[0].set_xlabel(\"n_singular_values\")\n",
    "    ax[0].set_ylabel(f\"nDCG @ {top_k}\")\n",
    "\n",
    "\n",
    "    ax[1].plot(n_singular_values, times)\n",
    "    ax[1].set_xlabel(\"n_singular_values\")\n",
    "    ax[1].set_ylabel(\"Time\")\n",
    "\n",
    "    return fig, ax\n",
    "\n",
    "#your code here\n"
   ],
   "outputs": [],
   "execution_count": 31
  },
  {
   "cell_type": "code",
   "id": "ee22fe02-b1c2-4fb5-a7b1-0525356fe9f0",
   "metadata": {
    "ExecuteTime": {
     "end_time": "2025-03-02T17:19:36.308776Z",
     "start_time": "2025-03-02T17:17:05.129177Z"
    }
   },
   "source": "plot_graphs(coo_interactions)",
   "outputs": [
    {
     "data": {
      "text/plain": [
       "  0%|          | 0/11 [00:00<?, ?it/s]"
      ],
      "application/vnd.jupyter.widget-view+json": {
       "version_major": 2,
       "version_minor": 0,
       "model_id": "55f8f35a491f4eeda0e9b4bfa07761d5"
      }
     },
     "metadata": {},
     "output_type": "display_data"
    },
    {
     "data": {
      "text/plain": [
       "(<Figure size 1000x1000 with 2 Axes>,\n",
       " array([<Axes: xlabel='n_singular_values', ylabel='nDCG @ 100'>,\n",
       "        <Axes: xlabel='n_singular_values', ylabel='Time'>], dtype=object))"
      ]
     },
     "execution_count": 32,
     "metadata": {},
     "output_type": "execute_result"
    },
    {
     "data": {
      "text/plain": [
       "<Figure size 1000x1000 with 2 Axes>"
      ],
      "image/png": "[encoded data removed]"
     },
     "metadata": {},
     "output_type": "display_data"
    }
   ],
   "execution_count": 32
  },
  {
   "metadata": {},
   "cell_type": "markdown",
   "source": "Насчет времени и кол-вом сингулярных значений какой-то корреляции у меня нет._. (комп на M4 MAX). И насчет метрики качества, ее качество тоже не улучшается с увеличением кол-ва сингулярных значений. Возможно из-за того, что происходит переобучение._.",
   "id": "8e36e6ce15f382be"
  },
  {
   "cell_type": "markdown",
   "id": "a8612d96-c694-42d6-9525-58808f642577",
   "metadata": {},
   "source": [
    "##### Задание 3.1. Перейдем к [ALS](http://yifanhu.net/PUB/cf.pdf). Возьмем реализацию iALS из библиотеки [implicit](https://benfred.github.io/implicit/api/models/cpu/als.html). Обучите ALS на нашем датасете, сделайте top_k рекомендации для юзеров из тестового датасета, и сравните метрики ALS с метриками, которые получились в SVD. Попробуйте перебрать гиперпараметры и найдите оптимальное число факторов, коэффициент alpha и коэффициент регуляризации."
   ]
  },
  {
   "metadata": {
    "ExecuteTime": {
     "end_time": "2025-03-02T17:30:24.946412Z",
     "start_time": "2025-03-02T17:30:24.944372Z"
    }
   },
   "cell_type": "code",
   "source": [
    "from implicit.cpu.als import AlternatingLeastSquares\n",
    "import scipy.sparse as scps\n",
    "from copy import deepcopy"
   ],
   "id": "be29723cb8053f4c",
   "outputs": [],
   "execution_count": 36
  },
  {
   "cell_type": "code",
   "id": "b5fb16e9-49d1-4d7e-a384-ccbdad4f1cdf",
   "metadata": {
    "ExecuteTime": {
     "end_time": "2025-03-02T17:30:25.501064Z",
     "start_time": "2025-03-02T17:30:25.498058Z"
    }
   },
   "source": [
    "def make_als_recommendations(\n",
    "    interactions: Union[np.ndarray, coo_array],\n",
    "    top_k: int = 100,\n",
    "    n_factors: int = 100,\n",
    "    alpha: float = 1.0,\n",
    "    regularization: float = 0.01,\n",
    "    verbose=True,\n",
    "    return_model=False\n",
    "):\n",
    "\n",
    "    interactions = csr_matrix(deepcopy(interactions))\n",
    "    model = AlternatingLeastSquares(\n",
    "        factors=n_factors,\n",
    "        regularization=regularization,\n",
    "        alpha=alpha,\n",
    "        num_threads=6,\n",
    "        random_state=42\n",
    "    )\n",
    "\n",
    "    model.fit(interactions, show_progress=verbose)\n",
    "\n",
    "    recommendations = model.recommend(\n",
    "        userid=np.arange(interactions.shape[0]),\n",
    "        user_items=interactions,\n",
    "        filter_already_liked_items=True, N=top_k\n",
    "    )[0]\n",
    "\n",
    "    del interactions\n",
    "\n",
    "    if return_model:\n",
    "        return recommendations, model\n",
    "    return recommendations #shape ~ [n_users, top_k]\n"
   ],
   "outputs": [],
   "execution_count": 37
  },
  {
   "cell_type": "code",
   "id": "b5573d01-8512-450f-9260-03928ee9b367",
   "metadata": {
    "ExecuteTime": {
     "end_time": "2025-03-02T17:30:36.500163Z",
     "start_time": "2025-03-02T17:30:33.613301Z"
    }
   },
   "source": [
    "recs = make_als_recommendations(interactions)\n",
    "assert recs.shape == (interactions.shape[0], 100)"
   ],
   "outputs": [
    {
     "name": "stderr",
     "output_type": "stream",
     "text": [
      "/Library/Frameworks/Python.framework/Versions/3.12/lib/python3.12/site-packages/implicit/cpu/als.py:95: RuntimeWarning: OpenBLAS is configured to use 14 threads. It is highly recommended to disable its internal threadpool by setting the environment variable 'OPENBLAS_NUM_THREADS=1' or by calling 'threadpoolctl.threadpool_limits(1, \"blas\")'. Having OpenBLAS use a threadpool can lead to severe performance issues here.\n",
      "  check_blas_config()\n"
     ]
    },
    {
     "data": {
      "text/plain": [
       "  0%|          | 0/15 [00:00<?, ?it/s]"
      ],
      "application/vnd.jupyter.widget-view+json": {
       "version_major": 2,
       "version_minor": 0,
       "model_id": "507ddbe040584640804777545568db71"
      }
     },
     "metadata": {},
     "output_type": "display_data"
    }
   ],
   "execution_count": 38
  },
  {
   "metadata": {
    "ExecuteTime": {
     "end_time": "2025-03-02T17:32:23.649884Z",
     "start_time": "2025-03-02T17:32:08.140880Z"
    }
   },
   "cell_type": "code",
   "source": [
    "print(f\"ALS: {ndcg(df_test, recs):}\")\n",
    "\n",
    "svd_recs = make_svd_recommendations(coo_interactions, 15, 100)\n",
    "print(f\"SVD: {ndcg(df_test, svd_recs):.4f}\")"
   ],
   "id": "30aad4f9f499c937",
   "outputs": [
    {
     "name": "stdout",
     "output_type": "stream",
     "text": [
      "ALS: 0.10687026869840936\n",
      "SVD: 0.1147\n"
     ]
    }
   ],
   "execution_count": 40
  },
  {
   "metadata": {
    "ExecuteTime": {
     "end_time": "2025-03-02T17:50:22.904631Z",
     "start_time": "2025-03-02T17:47:19.854320Z"
    }
   },
   "cell_type": "code",
   "source": [
    "# tuned als\n",
    "\n",
    "alphas = [0, 0.5, 1, 2]\n",
    "regularizations = [0.005, 0.01, 0.05, 0.1]\n",
    "n_factors_ = [20, 50, 100, 150]\n",
    "\n",
    "max_score = 0\n",
    "best_combination = None\n",
    "\n",
    "res = []\n",
    "\n",
    "for alpha in tqdm(alphas):\n",
    "    for regularization in regularizations:\n",
    "        for n_factors in n_factors_:\n",
    "            recs = make_als_recommendations(\n",
    "                interactions,\n",
    "                n_factors=n_factors,\n",
    "                alpha=alpha,\n",
    "                regularization=regularization,\n",
    "                verbose=False\n",
    "            )\n",
    "            score = ndcg(df_test, recs)\n",
    "\n",
    "            if score > max_score:\n",
    "                print(f\"New {score}\")\n",
    "                print(f\"Parameters: {alpha}, {regularization}, {n_factors}\")\n",
    "                best_combination = (alpha, regularization, n_factors)\n",
    "                max_score = score\n",
    "\n",
    "            res.append((score, alpha, regularization, n_factors))"
   ],
   "id": "7eb912a460b9691b",
   "outputs": [
    {
     "data": {
      "text/plain": [
       "  0%|          | 0/4 [00:00<?, ?it/s]"
      ],
      "application/vnd.jupyter.widget-view+json": {
       "version_major": 2,
       "version_minor": 0,
       "model_id": "a3c563f77b60416fbb79a5d3b162d669"
      }
     },
     "metadata": {},
     "output_type": "display_data"
    },
    {
     "name": "stdout",
     "output_type": "stream",
     "text": [
      "New 0.06213329039676841\n",
      "Parameters: 0, 0.005, 20\n",
      "New 0.06686071167046065\n",
      "Parameters: 0, 0.01, 100\n",
      "New 0.07541060694217147\n",
      "Parameters: 0, 0.05, 100\n",
      "New 0.08044889619793838\n",
      "Parameters: 0, 0.1, 150\n",
      "New 0.11238423041059041\n",
      "Parameters: 0.5, 0.005, 20\n"
     ]
    }
   ],
   "execution_count": 44
  },
  {
   "metadata": {
    "ExecuteTime": {
     "end_time": "2025-03-02T17:50:24.944190Z",
     "start_time": "2025-03-02T17:50:22.990458Z"
    }
   },
   "cell_type": "code",
   "source": [
    "recs = make_als_recommendations(interactions, n_factors=20, alpha=0.5, regularization=0.05)\n",
    "print(f\"tuned als: {ndcg(df_test, recs):.4f}\")"
   ],
   "id": "19e5499d806db36a",
   "outputs": [
    {
     "data": {
      "text/plain": [
       "  0%|          | 0/15 [00:00<?, ?it/s]"
      ],
      "application/vnd.jupyter.widget-view+json": {
       "version_major": 2,
       "version_minor": 0,
       "model_id": "2f3d98ed9ce54a078b9266c8f74b98e4"
      }
     },
     "metadata": {},
     "output_type": "display_data"
    },
    {
     "name": "stdout",
     "output_type": "stream",
     "text": [
      "tuned als: 0.1124\n"
     ]
    }
   ],
   "execution_count": 45
  },
  {
   "metadata": {},
   "cell_type": "markdown",
   "source": "Обычный als справляется хуже всех, tuned als и svd примерно одинаково",
   "id": "be3177aab7ec6758"
  },
  {
   "cell_type": "markdown",
   "id": "81f3b1cc-760b-4d6a-ab8a-aca57b7b6dfe",
   "metadata": {},
   "source": [
    "##### Задание 3.2. Сделайте объяснение рекомендаций для нескольких юзеров(als.explain). Воспользуйтесь файлом movies.dat чтобы перейти от индексов фильмов к их названием"
   ]
  },
  {
   "cell_type": "code",
   "id": "ddd9a956-d2f5-4560-8d0c-c72164ebdfa8",
   "metadata": {
    "ExecuteTime": {
     "end_time": "2025-03-02T17:53:24.401408Z",
     "start_time": "2025-03-02T17:53:24.355073Z"
    }
   },
   "source": [
    "import chardet\n",
    "with open(\"ml-1m/movies.dat\", mode=\"rb\") as f:\n",
    "    print(chardet.detect(f.read(9000)))\n",
    "\n",
    "df_movies = pd.read_csv(\"ml-1m/movies.dat\", sep=r'::', names=[\"item_id\", \"name\", \"genre\"], engine=\"python\", encoding=\"ISO-8859-1\")"
   ],
   "outputs": [
    {
     "name": "stdout",
     "output_type": "stream",
     "text": [
      "{'encoding': 'ISO-8859-1', 'confidence': 0.73, 'language': ''}\n"
     ]
    }
   ],
   "execution_count": 46
  },
  {
   "metadata": {
    "ExecuteTime": {
     "end_time": "2025-03-02T18:38:17.208222Z",
     "start_time": "2025-03-02T18:38:14.317972Z"
    }
   },
   "cell_type": "code",
   "source": [
    "seed = 123\n",
    "recs, model = make_als_recommendations(interactions, return_model=True)"
   ],
   "id": "898621b5cba183c5",
   "outputs": [
    {
     "data": {
      "text/plain": [
       "  0%|          | 0/15 [00:00<?, ?it/s]"
      ],
      "application/vnd.jupyter.widget-view+json": {
       "version_major": 2,
       "version_minor": 0,
       "model_id": "68fd1bc4b3ca4e8fa5b347b5fa3e6da9"
      }
     },
     "metadata": {},
     "output_type": "display_data"
    }
   ],
   "execution_count": 67
  },
  {
   "metadata": {
    "ExecuteTime": {
     "end_time": "2025-03-02T18:38:17.368587Z",
     "start_time": "2025-03-02T18:38:17.254525Z"
    }
   },
   "cell_type": "code",
   "source": [
    "user = df_train.sample(random_state=seed)[\"user_id\"].values[0]\n",
    "user_recs = recs[user]\n",
    "\n",
    "imp_movies = [i[0] for i in model.explain(user, csr_matrix(interactions), user_recs[0])[1]]\n",
    "\n",
    "\n",
    "most_recom_id = item_le.inverse_transform(user_recs[[0]])[0]\n",
    "imp_movies_ids = item_le.inverse_transform(imp_movies)\n",
    "\n",
    "print(f\"Recommendation for user {user}\")\n",
    "\n",
    "most_recom_movie = df_movies.loc[df_movies.item_id == most_recom_id].iloc[0]\n",
    "print(f\"Most recommended item: id={most_recom_movie.item_id}, name={most_recom_movie.name}, genre={most_recom_movie.genre}\")\n",
    "\n",
    "print(\"\\nRecommendations are based on the user's views of the following movies:\")\n",
    "for movie_id in imp_movies_ids:\n",
    "    movie = df_movies.loc[df_movies.item_id == movie_id].iloc[0]\n",
    "    print(f\"\\t * id={movie.item_id}, name={movie.name}, genre={movie.genre}\")\n"
   ],
   "id": "36eb099e84289d26",
   "outputs": [
    {
     "name": "stdout",
     "output_type": "stream",
     "text": [
      "Recommendation for user 4948\n",
      "Most recommended item: id=2716, name=2647, genre=Comedy|Horror\n",
      "\n",
      "Recommendations are based on the user's views of the following movies:\n",
      "\t * id=2987, name=2918, genre=Adventure|Animation|Film-Noir\n",
      "\t * id=2918, name=2849, genre=Comedy\n",
      "\t * id=2791, name=2722, genre=Comedy\n",
      "\t * id=1079, name=1063, genre=Comedy\n",
      "\t * id=2174, name=2105, genre=Comedy|Fantasy\n",
      "\t * id=3361, name=3292, genre=Comedy\n",
      "\t * id=3408, name=3339, genre=Drama\n",
      "\t * id=1270, name=1250, genre=Comedy|Sci-Fi\n",
      "\t * id=2763, name=2694, genre=Action|Thriller\n",
      "\t * id=2797, name=2728, genre=Comedy|Fantasy\n"
     ]
    }
   ],
   "execution_count": 68
  },
  {
   "metadata": {
    "ExecuteTime": {
     "end_time": "2025-03-02T18:38:17.480970Z",
     "start_time": "2025-03-02T18:38:17.382718Z"
    }
   },
   "cell_type": "code",
   "source": [
    "user = df_train.sample(random_state=seed + 1)[\"user_id\"].values[0]\n",
    "user_recs = recs[user]\n",
    "\n",
    "imp_movies = [i[0] for i in model.explain(user, csr_matrix(interactions), user_recs[0])[1]]\n",
    "\n",
    "\n",
    "most_recom_id = item_le.inverse_transform(user_recs[[0]])[0]\n",
    "imp_movies_ids = item_le.inverse_transform(imp_movies)\n",
    "\n",
    "print(f\"Recommendation for user {user}\")\n",
    "\n",
    "most_recom_movie = df_movies.loc[df_movies.item_id == most_recom_id].iloc[0]\n",
    "print(f\"Most recommended item: id={most_recom_movie.item_id}, name={most_recom_movie.name}, genre={most_recom_movie.genre}\")\n",
    "\n",
    "print(\"\\nRecommendations are based on the user's views of the following movies:\")\n",
    "for movie_id in imp_movies_ids:\n",
    "    movie = df_movies.loc[df_movies.item_id == movie_id].iloc[0]\n",
    "    print(f\"\\t * id={movie.item_id}, name={movie.name}, genre={movie.genre}\")"
   ],
   "id": "f045189afb1e972",
   "outputs": [
    {
     "name": "stdout",
     "output_type": "stream",
     "text": [
      "Recommendation for user 4967\n",
      "Most recommended item: id=2871, name=2802, genre=Adventure|Thriller\n",
      "\n",
      "Recommendations are based on the user's views of the following movies:\n",
      "\t * id=1204, name=1186, genre=Adventure|War\n",
      "\t * id=3101, name=3032, genre=Thriller\n",
      "\t * id=919, name=907, genre=Adventure|Children's|Drama|Musical\n",
      "\t * id=1303, name=1283, genre=Adventure\n",
      "\t * id=2819, name=2750, genre=Thriller\n",
      "\t * id=590, name=586, genre=Adventure|Drama|Western\n",
      "\t * id=1262, name=1242, genre=Adventure|War\n",
      "\t * id=2987, name=2918, genre=Adventure|Animation|Film-Noir\n",
      "\t * id=1294, name=1274, genre=Comedy|War\n",
      "\t * id=111, name=109, genre=Drama|Thriller\n"
     ]
    }
   ],
   "execution_count": 69
  },
  {
   "cell_type": "markdown",
   "id": "d7d7ea0c-8288-45f5-83d4-9761a8952669",
   "metadata": {},
   "source": [
    "##### Задание 4. До этого мы работали с рейтингами, но как обсуждалось на лекции, implicit ALS отлично работает и с implicit фидбэком. Давайте попробуем преобразовать наш датасет(трейн и тест) следующим образом\n",
    "\n",
    "1. Бинаризуем все рейтинги(заменим любую интеракцию пользователя на 1)\n",
    "2. Заменим на 1 только рейтинги 4 и 5, а рейтинг ниже 4 заменим на 0\n",
    "3. Заменим на 1 только рейтинги 4 и 5, а рейтинг ниже 4 заменим на -1\n",
    "4. Заменим на 1 только рейтинги 4 и 5, а рейтинг ниже 4 заменим на -1 и добавим сглаживание по времени. То есть чем дальше была интеракция от максимальной даты трейна, тем с меньшим весом мы будем ее учитывать(например можно интеракции за последний месяц брать в исходном виде, и с каждым месяцем в прошлое умножать их на какой-нибудь коэффициент меньший 1). Таким образом более старые интеракции пользователя будут вносить меньший вклад в его интересы\n",
    "5. Придумайте свой вариант(опционально)\n",
    "\n",
    "Для каждой полученной матрицы обучите iALS и SVD и сравните их результаты между собой(преобразовывать нужно только обучающую выборку, тестовую оставляем неизменной)"
   ]
  },
  {
   "cell_type": "code",
   "id": "c839fd09-eca4-43e0-a209-2da63775f79f",
   "metadata": {
    "ExecuteTime": {
     "end_time": "2025-03-02T18:38:34.092922Z",
     "start_time": "2025-03-02T18:38:17.490714Z"
    }
   },
   "source": [
    "# 1\n",
    "\n",
    "interactions_1 = deepcopy(interactions)\n",
    "interactions_1[interactions_1 > 0] = 1\n",
    "\n",
    "coo_interactions_1 = coo_array(interactions_1)\n",
    "\n",
    "svd_recs = make_svd_recommendations(coo_interactions_1, 15, 100)\n",
    "als_recs = make_als_recommendations(interactions_1, n_factors=20, alpha=0.5, regularization=0.05)\n",
    "print(f\"SVD: {ndcg(df_test, svd_recs): }\")\n",
    "print(f\"ALS: {ndcg(df_test, als_recs): }\")"
   ],
   "outputs": [
    {
     "data": {
      "text/plain": [
       "  0%|          | 0/15 [00:00<?, ?it/s]"
      ],
      "application/vnd.jupyter.widget-view+json": {
       "version_major": 2,
       "version_minor": 0,
       "model_id": "3525313e7a38416a8e0a5a9f7f34abea"
      }
     },
     "metadata": {},
     "output_type": "display_data"
    },
    {
     "name": "stdout",
     "output_type": "stream",
     "text": [
      "SVD:  0.11472723604860942\n",
      "ALS:  0.11151177025724732\n"
     ]
    }
   ],
   "execution_count": 70
  },
  {
   "metadata": {},
   "cell_type": "markdown",
   "source": "SVD & ALS are quite similar",
   "id": "5c93fd145e86b926"
  },
  {
   "metadata": {
    "ExecuteTime": {
     "end_time": "2025-03-02T18:38:50.141812Z",
     "start_time": "2025-03-02T18:38:34.155869Z"
    }
   },
   "cell_type": "code",
   "source": [
    "# 2\n",
    "\n",
    "interactions_2 = deepcopy(interactions)\n",
    "interactions_2[interactions_2 >= 4] = 1\n",
    "interactions_2[interactions_2 <= 3] = 0\n",
    "\n",
    "coo_interactions_2 = coo_array(interactions_2)\n",
    "\n",
    "svd_recs = make_svd_recommendations(coo_interactions_2, 15, 100)\n",
    "als_recs = make_als_recommendations(interactions_2, n_factors=20, alpha=0.5, regularization=0.05)\n",
    "print(f\"SVD: {ndcg(df_test, svd_recs): }\")\n",
    "print(f\"ALS: {ndcg(df_test, als_recs): }\")"
   ],
   "id": "8a819c47edd34bbd",
   "outputs": [
    {
     "data": {
      "text/plain": [
       "  0%|          | 0/15 [00:00<?, ?it/s]"
      ],
      "application/vnd.jupyter.widget-view+json": {
       "version_major": 2,
       "version_minor": 0,
       "model_id": "f98cb65f678a40c9b7e73cc0158d1089"
      }
     },
     "metadata": {},
     "output_type": "display_data"
    },
    {
     "name": "stdout",
     "output_type": "stream",
     "text": [
      "SVD:  0.11472723604860942\n",
      "ALS:  0.040235153638428084\n"
     ]
    }
   ],
   "execution_count": 71
  },
  {
   "metadata": {},
   "cell_type": "markdown",
   "source": "SVD is better in this case",
   "id": "6d9d49d8162f16d4"
  },
  {
   "metadata": {
    "ExecuteTime": {
     "end_time": "2025-03-02T18:39:10.441092Z",
     "start_time": "2025-03-02T18:38:50.183240Z"
    }
   },
   "cell_type": "code",
   "source": [
    "# 3\n",
    "\n",
    "interactions_3 = deepcopy(interactions)\n",
    "interactions_3[interactions_3 >= 4] = 1\n",
    "interactions_3[interactions_3 <= 3] = -1\n",
    "\n",
    "coo_interactions_3 = coo_array(interactions_3)\n",
    "\n",
    "svd_recs = make_svd_recommendations(coo_interactions_3, 15, 100)\n",
    "als_recs = make_als_recommendations(interactions_3, n_factors=20, alpha=0.5, regularization=0.05)\n",
    "print(f\"SVD: {ndcg(df_test, svd_recs): }\")\n",
    "print(f\"ALS: {ndcg(df_test, als_recs): }\")"
   ],
   "id": "c88098184cf0fc28",
   "outputs": [
    {
     "data": {
      "text/plain": [
       "  0%|          | 0/15 [00:00<?, ?it/s]"
      ],
      "application/vnd.jupyter.widget-view+json": {
       "version_major": 2,
       "version_minor": 0,
       "model_id": "3cffb62b11f2471e820b5ddfc4985902"
      }
     },
     "metadata": {},
     "output_type": "display_data"
    },
    {
     "name": "stdout",
     "output_type": "stream",
     "text": [
      "SVD:  0.11472723604860942\n",
      "ALS:  0.040235153638428084\n"
     ]
    }
   ],
   "execution_count": 72
  },
  {
   "metadata": {},
   "cell_type": "markdown",
   "source": "SVD is better in this case",
   "id": "f94ff4f53c79e93"
  },
  {
   "metadata": {
    "ExecuteTime": {
     "end_time": "2025-03-02T18:39:10.512368Z",
     "start_time": "2025-03-02T18:39:10.500230Z"
    }
   },
   "cell_type": "code",
   "source": [
    "# 4\n",
    "\n",
    "df_train[\"datetime\"].min(), df_train[\"datetime\"].min().month"
   ],
   "id": "33ac384c35b95f4e",
   "outputs": [
    {
     "data": {
      "text/plain": [
       "(Timestamp('2000-04-25 23:05:32'), 4)"
      ]
     },
     "execution_count": 73,
     "metadata": {},
     "output_type": "execute_result"
    }
   ],
   "execution_count": 73
  },
  {
   "metadata": {
    "ExecuteTime": {
     "end_time": "2025-03-02T18:39:10.539203Z",
     "start_time": "2025-03-02T18:39:10.531210Z"
    }
   },
   "cell_type": "code",
   "source": "df_train[\"datetime\"].max(), df_train[\"datetime\"].max().month",
   "id": "55fd64c13c852734",
   "outputs": [
    {
     "data": {
      "text/plain": [
       "(Timestamp('2000-11-30 23:59:47'), 11)"
      ]
     },
     "execution_count": 74,
     "metadata": {},
     "output_type": "execute_result"
    }
   ],
   "execution_count": 74
  },
  {
   "metadata": {
    "ExecuteTime": {
     "end_time": "2025-03-02T18:39:10.565873Z",
     "start_time": "2025-03-02T18:39:10.561097Z"
    }
   },
   "cell_type": "code",
   "source": "total_month = df_train[\"datetime\"].max().month - df_train[\"datetime\"].min().month # (n-4)/7",
   "id": "45a626d26e4a174f",
   "outputs": [],
   "execution_count": 75
  },
  {
   "metadata": {
    "ExecuteTime": {
     "end_time": "2025-03-02T18:39:18.069058Z",
     "start_time": "2025-03-02T18:39:10.571308Z"
    }
   },
   "cell_type": "code",
   "source": [
    "raitings = []\n",
    "for i, row in tqdm(df_train.iterrows(), total=df_train.shape[0]):\n",
    "    if row[\"rating\"] <= 3:\n",
    "        raitings.append(-1)\n",
    "        continue\n",
    "\n",
    "    weight = (row[\"datetime\"].month - 4) / 7\n",
    "    raitings.append(row[\"rating\"] * weight)\n"
   ],
   "id": "8d1189ce352d0df0",
   "outputs": [
    {
     "data": {
      "text/plain": [
       "  0%|          | 0/787420 [00:00<?, ?it/s]"
      ],
      "application/vnd.jupyter.widget-view+json": {
       "version_major": 2,
       "version_minor": 0,
       "model_id": "f2323afb105b4003bcb3e06d84288785"
      }
     },
     "metadata": {},
     "output_type": "display_data"
    }
   ],
   "execution_count": 76
  },
  {
   "metadata": {
    "ExecuteTime": {
     "end_time": "2025-03-02T18:44:17.759794Z",
     "start_time": "2025-03-02T18:44:02.426052Z"
    }
   },
   "cell_type": "code",
   "source": [
    "df_train_4 = deepcopy(df_train).assign(rating=raitings)\n",
    "interactions_4 = df_to_matrix(df_train_4)\n",
    "coo_interactions_4 = df_to_coo(df_train_4)\n",
    "\n",
    "\n",
    "svd_recs = make_svd_recommendations(coo_interactions_4, 15, 100)\n",
    "als_recs = make_als_recommendations(interactions_4, n_factors=20, alpha=0.5, regularization=0.05)\n",
    "print(f\"SVD: {ndcg(df_test, svd_recs): }\")\n",
    "print(f\"ALS: {ndcg(df_test, als_recs): }\")"
   ],
   "id": "a3fd021eefb7a202",
   "outputs": [
    {
     "data": {
      "text/plain": [
       "  0%|          | 0/15 [00:00<?, ?it/s]"
      ],
      "application/vnd.jupyter.widget-view+json": {
       "version_major": 2,
       "version_minor": 0,
       "model_id": "bdbeb00be6824ef5b9a7eadec69b2983"
      }
     },
     "metadata": {},
     "output_type": "display_data"
    },
    {
     "name": "stdout",
     "output_type": "stream",
     "text": [
      "SVD:  0.11472723604860942\n",
      "ALS:  0.11501249425212043\n"
     ]
    }
   ],
   "execution_count": 78
  },
  {
   "metadata": {},
   "cell_type": "markdown",
   "source": "Хороший результат. Наравне с 1",
   "id": "c85df28b069dd937"
  },
  {
   "cell_type": "markdown",
   "id": "ee7a03b1-5072-4bc4-ba46-1fc3c989b888",
   "metadata": {},
   "source": [
    "##### Задание 5. iALS на numpy/torch. Давайте реализуем алгоритм iALS на нумпае или торче. Требуется реализовать алгорит, описанный в 4 части [статьи](http://yifanhu.net/PUB/cf.pdf). Обратите внимания на все оптимизации, которые они описывают в статье, чтобы сократить лишние вычисления. Hint: метрики у вашего алгоритма должны быть сравнимы с метриками ALS из библиотеки implicit"
   ]
  },
  {
   "cell_type": "code",
   "id": "e6be5f0d-1454-4f15-9dd1-17d1f1f99583",
   "metadata": {
    "ExecuteTime": {
     "end_time": "2025-03-02T18:52:46.917612Z",
     "start_time": "2025-03-02T18:52:46.912750Z"
    }
   },
   "source": [
    "import numpy as np\n",
    "\n",
    "class iALS:\n",
    "    def __init__(self, n_factors: int = 100, alpha: float = 1.0, reg_coef: float = 0.01):\n",
    "        self.n_factors = n_factors\n",
    "        self.alpha = alpha\n",
    "        self.reg_coef = reg_coef\n",
    "        self.user_factors = None\n",
    "        self.item_factors = None\n",
    "\n",
    "    def fit(self, interactions: np.ndarray, n_iterations: int = 10, verbose: bool = True):\n",
    "        n_users, n_items = interactions.shape\n",
    "        C = 1 + self.alpha * interactions\n",
    "        I = np.eye(self.n_factors)\n",
    "\n",
    "        self.user_factors = np.random.normal(0, 0.1, (n_users, self.n_factors))\n",
    "        self.item_factors = np.random.normal(0, 0.1, (n_items, self.n_factors))\n",
    "\n",
    "        for _ in tqdm(range(n_iterations), disable=not verbose):\n",
    "            YTY = self.item_factors.T @ self.item_factors + self.reg_coef * I\n",
    "            self.user_factors = np.linalg.solve(YTY, (C @ self.item_factors).T).T\n",
    "\n",
    "            XTX = self.user_factors.T @ self.user_factors + self.reg_coef * I\n",
    "            self.item_factors = np.linalg.solve(XTX, (C.T @ self.user_factors).T).T\n",
    "\n",
    "    def predict(self, interactions: np.ndarray, top_k: int = 100) -> np.ndarray:\n",
    "        scores = self.user_factors @ self.item_factors.T\n",
    "        scores[interactions > 0] = -np.inf\n",
    "        return np.argsort(-scores, axis=1)[:, :top_k]\n"
   ],
   "outputs": [],
   "execution_count": 83
  },
  {
   "cell_type": "code",
   "id": "a9aa65d7-11dc-48d9-a270-8d0a6d96f28e",
   "metadata": {
    "ExecuteTime": {
     "end_time": "2025-03-02T18:53:23.712226Z",
     "start_time": "2025-03-02T18:53:22.228437Z"
    }
   },
   "source": [
    "model = iALS()\n",
    "model.fit(interactions)\n",
    "recs_manual = model.predict(interactions)"
   ],
   "outputs": [
    {
     "data": {
      "text/plain": [
       "  0%|          | 0/10 [00:00<?, ?it/s]"
      ],
      "application/vnd.jupyter.widget-view+json": {
       "version_major": 2,
       "version_minor": 0,
       "model_id": "0f94bb1e052e4526a0781f9b7229e329"
      }
     },
     "metadata": {},
     "output_type": "display_data"
    }
   ],
   "execution_count": 86
  },
  {
   "metadata": {
    "ExecuteTime": {
     "end_time": "2025-03-02T18:53:26.575847Z",
     "start_time": "2025-03-02T18:53:23.715868Z"
    }
   },
   "cell_type": "code",
   "source": "lib = make_als_recommendations(interactions)",
   "id": "cde31b78e003420d",
   "outputs": [
    {
     "data": {
      "text/plain": [
       "  0%|          | 0/15 [00:00<?, ?it/s]"
      ],
      "application/vnd.jupyter.widget-view+json": {
       "version_major": 2,
       "version_minor": 0,
       "model_id": "15d738d5ad3246a8a7b9624127d8fabc"
      }
     },
     "metadata": {},
     "output_type": "display_data"
    }
   ],
   "execution_count": 87
  },
  {
   "metadata": {
    "ExecuteTime": {
     "end_time": "2025-03-02T18:53:27.889495Z",
     "start_time": "2025-03-02T18:53:26.620260Z"
    }
   },
   "cell_type": "code",
   "source": [
    "print(f\"iALS: {ndcg(df_test, recs_manual): }\")\n",
    "print(f\"lib: {ndcg(df_test, lib): }\")"
   ],
   "id": "407354072ef45c2f",
   "outputs": [
    {
     "name": "stdout",
     "output_type": "stream",
     "text": [
      "iALS:  0.10815880064195249\n",
      "lib:  0.10687026869840936\n"
     ]
    }
   ],
   "execution_count": 88
  },
  {
   "metadata": {},
   "cell_type": "markdown",
   "source": "наша модель получилась лучше",
   "id": "a4155ba65d7df181"
  }
 ],
 "metadata": {
  "kernelspec": {
   "display_name": "Python 3 (ipykernel)",
   "language": "python",
   "name": "python3"
  },
  "language_info": {
   "codemirror_mode": {
    "name": "ipython",
    "version": 3
   },
   "file_extension": ".py",
   "mimetype": "text/x-python",
   "name": "python",
   "nbconvert_exporter": "python",
   "pygments_lexer": "ipython3",
   "version": "3.12.8"
  }
 },
 "nbformat": 4,
 "nbformat_minor": 5
}
